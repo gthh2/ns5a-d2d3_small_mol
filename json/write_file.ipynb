{
 "cells": [
  {
   "cell_type": "markdown",
   "metadata": {
    "collapsed": true
   },
   "source": [
    "Executing all cells in ../19F_1D/ ../19F_R1eff/ ../19F_R2eff/ will output dictionaries containing data to various json files in this directory. Executing the cell below will combine this data into a single input data file for the tau_c_fit: ../tau_c_fit/data.inp"
   ]
  },
  {
   "cell_type": "code",
   "execution_count": 1,
   "metadata": {
    "collapsed": true
   },
   "outputs": [],
   "source": [
    "import os\n",
    "import json\n",
    "\n",
    "# Define the list of json files and the corresponding column names\n",
    "json_files = [\"R2_av.json\", \"R2_se.json\", \"CS_av.json\", \"CS_se.json\", \"R1_av.json\", \"R1_se.json\"]\n",
    "header = [\"Concentration\"] + [os.path.splitext(filename)[0] for filename in json_files]\n",
    "\n",
    "# Load the data from the JSON files in the correct order\n",
    "data = []\n",
    "for filename in json_files:\n",
    "    with open(filename, \"r\") as f:\n",
    "        d = json.load(f)\n",
    "        data.append(d)\n",
    "\n",
    "# Get a sorted list of all the unique concentration values\n",
    "concentrations = sorted(set().union(*data), key=float, reverse=False)\n",
    "concentrations.remove('200.0') #exclude concentration where NS5A-D2D3 is less disordered\n",
    "\n",
    "# Write the data to a text file\n",
    "with open(\"../tau_c_fit/data.inp\", \"w\") as f:\n",
    "    # Write the header row with the file names as column headers\n",
    "    f.write(\"\\t\".join(header) + \"\\n\")\n",
    "\n",
    "    # Loop over the concentration values and write the corresponding data values\n",
    "    for c in concentrations:\n",
    "        f.write(f\"{c}\\t\")\n",
    "        for d in data:\n",
    "            if c in d:\n",
    "                f.write(f\"{d[c]}\\t\")\n",
    "            else:\n",
    "                if c != '200.0': # Exclude concentration where NS5A-D2D3 is less disordered\n",
    "                    f.write(\"None\\t\")\n",
    "        f.write(\"\\n\")"
   ]
  }
 ],
 "metadata": {
  "kernelspec": {
   "display_name": "Python 3",
   "language": "python",
   "name": "python3"
  },
  "language_info": {
   "codemirror_mode": {
    "name": "ipython",
    "version": 3
   },
   "file_extension": ".py",
   "mimetype": "text/x-python",
   "name": "python",
   "nbconvert_exporter": "python",
   "pygments_lexer": "ipython3",
   "version": "3.6.8"
  }
 },
 "nbformat": 4,
 "nbformat_minor": 2
}
